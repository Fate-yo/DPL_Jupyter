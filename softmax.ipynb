{
 "cells": [
  {
   "cell_type": "code",
   "execution_count": 65,
   "metadata": {},
   "outputs": [
    {
     "name": "stdout",
     "output_type": "stream",
     "text": [
      "主机名: DESKTOP-D93LP51\n",
      "IP地址: 10.218.151.195\n",
      "True\n",
      "1\n",
      "11.3\n"
     ]
    }
   ],
   "source": [
    "#获取本地IP地址\n",
    "import socket\n",
    "hostname = socket.gethostname()\n",
    "ip_address = socket.gethostbyname(hostname)\n",
    "print(f\"主机名: {hostname}\")\n",
    "print(f\"IP地址: {ip_address}\")\n",
    "import torch # 如果pytorch安装成功即可导入\n",
    "print(torch.cuda.is_available()) # 查看CUDA是否可用\n",
    "print(torch.cuda.device_count()) # 查看可用的CUDA数量\n",
    "print(torch.version.cuda) # 查看CUDA的版本号\n"
   ]
  },
  {
   "cell_type": "code",
   "execution_count": 67,
   "metadata": {},
   "outputs": [
    {
     "data": {
      "text/plain": [
       "device(type='cuda', index=0)"
      ]
     },
     "execution_count": 67,
     "metadata": {},
     "output_type": "execute_result"
    }
   ],
   "source": [
    "import torch\n",
    "import torch.nn as nn\n",
    "import torch.optim as optim\n",
    "import matplotlib.pyplot as plt\n",
    "from torchvision import datasets, transforms\n",
    "%matplotlib inline\n",
    "torch.device(\"cuda:0\")"
   ]
  },
  {
   "cell_type": "code",
   "execution_count": 92,
   "metadata": {},
   "outputs": [],
   "source": [
    "transform = transforms.Compose([\n",
    "    transforms.ToTensor(),\n",
    "    transforms.Normalize((0.1307,),(0.3081,))\n",
    "])"
   ]
  },
  {
   "cell_type": "code",
   "execution_count": 93,
   "metadata": {},
   "outputs": [],
   "source": [
    "data_dir = './dataset/'\n",
    "train_data = datasets.MNIST(root = data_dir,train=True,download=True,transform=transform)\n",
    "test_data = datasets.MNIST(root = data_dir,train=False,download=True,transform=transform)"
   ]
  },
  {
   "cell_type": "code",
   "execution_count": 94,
   "metadata": {},
   "outputs": [
    {
     "name": "stdout",
     "output_type": "stream",
     "text": [
      "MNIST 数据集的均值为 0.1307，标准差为0.3081\n"
     ]
    }
   ],
   "source": [
    "train_data_mean = train_data.data.float().mean() / 255.\n",
    "train_data_std = train_data.data.float().std() / 255.\n",
    "print(f\"MNIST 数据集的均值为 {train_data_mean:.4f}，标准差为{train_data_std:.4f}\")"
   ]
  },
  {
   "cell_type": "code",
   "execution_count": 95,
   "metadata": {},
   "outputs": [
    {
     "name": "stdout",
     "output_type": "stream",
     "text": [
      "label is :2\n"
     ]
    },
    {
     "data": {
      "image/png": "[encoded data removed]",
      "text/plain": [
       "<Figure size 640x480 with 1 Axes>"
      ]
     },
     "metadata": {},
     "output_type": "display_data"
    }
   ],
   "source": [
    "index = 1 \n",
    "demo_pic = train_data.data[index]\n",
    "plt.imshow(demo_pic,cmap='gray')\n",
    "print(f'label is :{test_data.targets[index]}')"
   ]
  },
  {
   "cell_type": "code",
   "execution_count": 96,
   "metadata": {},
   "outputs": [],
   "source": [
    "batch_size = 128\n",
    "train_loader = torch.utils.data.DataLoader(train_data,batch_size=batch_size,shuffle=True)\n",
    "\n",
    "test_loader = torch.utils.data.DataLoader(test_data,batch_size=batch_size,shuffle=False)\n",
    " "
   ]
  },
  {
   "cell_type": "code",
   "execution_count": 97,
   "metadata": {},
   "outputs": [],
   "source": [
    "class SoftmaxModel(nn.Module):\n",
    "    def __init__(self):\n",
    "        super(SoftmaxModel,self).__init__()\n",
    "        self.linear = nn.Linear(784,10)\n",
    "    def forward(self,x):\n",
    "        x = x.view(-1,784)\n",
    "        out = self.linear(x)\n",
    "        return out\n"
   ]
  },
  {
   "cell_type": "code",
   "execution_count": 100,
   "metadata": {},
   "outputs": [],
   "source": [
    "def train():\n",
    "    model = SoftmaxModel()\n",
    "    model = model.cuda()\n",
    "    learning_rate = 0.1\n",
    "    criterion = nn.CrossEntropyLoss()\n",
    "    optimizer = optim.SGD(model.parameters(),lr = learning_rate)\n",
    "    num_epochs = 15\n",
    "    losses = []\n",
    "    for epoch in range(num_epochs):\n",
    "        epoch_loss = 0.\n",
    "        j = 0\n",
    "        for i, (images,labels) in enumerate(train_loader):\n",
    "            j+=1\n",
    "            images = images.cuda()\n",
    "            labels = labels.cuda() \n",
    "            outputs = model(images)\n",
    "            loss = criterion(outputs, labels)\n",
    "        \n",
    "            optimizer.zero_grad()\n",
    "            loss.backward()\n",
    "            optimizer.step()\n",
    "            epoch_loss+=loss.item()\n",
    "            if (i+1) % 100 == 0:\n",
    "                print('Epoch [{}/{}], Step [{}/{}], Loss:{:.4f}'.format(epoch+1,num_epochs, i+1, len(train_loader),loss.item()))\n",
    "        losses.append(epoch_loss/j)\n",
    "    return losses,model"
   ]
  },
  {
   "cell_type": "code",
   "execution_count": null,
   "metadata": {
    "scrolled": true
   },
   "outputs": [
    {
     "name": "stdout",
     "output_type": "stream",
     "text": [
      "Epoch [1/15], Step [100/469], Loss:0.5872\n",
      "Epoch [1/15], Step [200/469], Loss:0.4729\n",
      "Epoch [1/15], Step [300/469], Loss:0.4087\n",
      "Epoch [1/15], Step [400/469], Loss:0.3562\n",
      "Epoch [2/15], Step [100/469], Loss:0.3108\n",
      "Epoch [2/15], Step [200/469], Loss:0.3305\n",
      "Epoch [2/15], Step [300/469], Loss:0.4744\n",
      "Epoch [2/15], Step [400/469], Loss:0.4658\n",
      "Epoch [3/15], Step [100/469], Loss:0.3094\n",
      "Epoch [3/15], Step [200/469], Loss:0.3308\n",
      "Epoch [3/15], Step [300/469], Loss:0.3185\n",
      "Epoch [3/15], Step [400/469], Loss:0.3559\n",
      "Epoch [4/15], Step [100/469], Loss:0.3107\n",
      "Epoch [4/15], Step [200/469], Loss:0.2475\n",
      "Epoch [4/15], Step [300/469], Loss:0.2409\n",
      "Epoch [4/15], Step [400/469], Loss:0.2795\n",
      "Epoch [5/15], Step [100/469], Loss:0.2542\n",
      "Epoch [5/15], Step [200/469], Loss:0.3297\n",
      "Epoch [5/15], Step [300/469], Loss:0.3250\n",
      "Epoch [5/15], Step [400/469], Loss:0.2705\n",
      "Epoch [6/15], Step [100/469], Loss:0.3203\n",
      "Epoch [6/15], Step [200/469], Loss:0.3798\n",
      "Epoch [6/15], Step [300/469], Loss:0.1639\n",
      "Epoch [6/15], Step [400/469], Loss:0.4675\n",
      "Epoch [7/15], Step [100/469], Loss:0.3005\n",
      "Epoch [7/15], Step [200/469], Loss:0.2677\n",
      "Epoch [7/15], Step [300/469], Loss:0.1654\n",
      "Epoch [7/15], Step [400/469], Loss:0.1978\n",
      "Epoch [8/15], Step [100/469], Loss:0.2375\n",
      "Epoch [8/15], Step [200/469], Loss:0.3889\n",
      "Epoch [8/15], Step [300/469], Loss:0.3626\n",
      "Epoch [8/15], Step [400/469], Loss:0.2355\n",
      "Epoch [9/15], Step [100/469], Loss:0.2528\n",
      "Epoch [9/15], Step [200/469], Loss:0.3058\n",
      "Epoch [9/15], Step [300/469], Loss:0.3150\n",
      "Epoch [9/15], Step [400/469], Loss:0.2412\n",
      "Epoch [10/15], Step [100/469], Loss:0.3135\n",
      "Epoch [10/15], Step [200/469], Loss:0.3875\n",
      "Epoch [10/15], Step [300/469], Loss:0.2725\n",
      "Epoch [10/15], Step [400/469], Loss:0.2553\n",
      "Epoch [11/15], Step [100/469], Loss:0.2941\n",
      "Epoch [11/15], Step [200/469], Loss:0.3903\n",
      "Epoch [11/15], Step [300/469], Loss:0.3615\n",
      "Epoch [11/15], Step [400/469], Loss:0.2749\n",
      "Epoch [12/15], Step [100/469], Loss:0.3324\n",
      "Epoch [12/15], Step [200/469], Loss:0.3378\n",
      "Epoch [12/15], Step [300/469], Loss:0.3042\n"
     ]
    }
   ],
   "source": [
    "%time losses,model = train()"
   ]
  },
  {
   "cell_type": "code",
   "execution_count": null,
   "metadata": {},
   "outputs": [],
   "source": [
    "import matplotlib.pyplot as plt\n",
    "plt.plot(losses)"
   ]
  },
  {
   "cell_type": "code",
   "execution_count": 35,
   "metadata": {},
   "outputs": [
    {
     "name": "stdout",
     "output_type": "stream",
     "text": [
      "Accuracy on Test Set: 90.33%\n"
     ]
    }
   ],
   "source": [
    "model.cpu()\n",
    "with torch.no_grad():\n",
    "    correct = 0\n",
    "    total = 0\n",
    "    for images,labels in test_loader:\n",
    "        outputs = model(images)\n",
    "        _,predicted = torch.max(outputs.data,1)\n",
    "        total+=labels.size(0)\n",
    "        correct += (predicted == labels).sum().item()\n",
    "    print('Accuracy on Test Set: {:.2f}%'.format(100 * correct/ total))"
   ]
  }
 ],
 "metadata": {
  "kernelspec": {
   "display_name": "Python 3 (ipykernel)",
   "language": "python",
   "name": "python3"
  },
  "language_info": {
   "codemirror_mode": {
    "name": "ipython",
    "version": 3
   },
   "file_extension": ".py",
   "mimetype": "text/x-python",
   "name": "python",
   "nbconvert_exporter": "python",
   "pygments_lexer": "ipython3",
   "version": "3.9.13"
  }
 },
 "nbformat": 4,
 "nbformat_minor": 4
}
