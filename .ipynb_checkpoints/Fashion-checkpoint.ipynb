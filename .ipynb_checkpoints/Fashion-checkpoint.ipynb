{
 "cells": [
  {
   "cell_type": "code",
   "execution_count": 1,
   "id": "57dc43a9",
   "metadata": {},
   "outputs": [
    {
     "name": "stdout",
     "output_type": "stream",
     "text": [
      "主机名: DESKTOP-D93LP51\n",
      "IP地址: 10.218.151.195\n"
     ]
    }
   ],
   "source": [
    "#获取本地IP地址\n",
    "import socket\n",
    "hostname = socket.gethostname()\n",
    "ip_address = socket.gethostbyname(hostname)\n",
    "print(f\"主机名: {hostname}\")\n",
    "print(f\"IP地址: {ip_address}\")"
   ]
  },
  {
   "cell_type": "code",
   "execution_count": 1,
   "id": "313e77af",
   "metadata": {},
   "outputs": [
    {
     "data": {
      "text/plain": [
       "device(type='cuda', index=0)"
      ]
     },
     "execution_count": 1,
     "metadata": {},
     "output_type": "execute_result"
    }
   ],
   "source": [
    "import torch\n",
    "import torch.nn as nn\n",
    "import torch.optim as optim\n",
    "import matplotlib.pyplot as plt\n",
    "from torchvision import datasets, transforms\n",
    "%matplotlib inline\n",
    "torch.device(\"cuda:0\")"
   ]
  },
  {
   "cell_type": "code",
   "execution_count": 2,
   "id": "32103be4",
   "metadata": {},
   "outputs": [],
   "source": [
    "transform = transforms.Compose([\n",
    "    transforms.ToTensor(),\n",
    "    transforms.Normalize((0.5,), (0.5,))\n",
    "])"
   ]
  },
  {
   "cell_type": "code",
   "execution_count": 5,
   "id": "579dc103",
   "metadata": {},
   "outputs": [
    {
     "name": "stdout",
     "output_type": "stream",
     "text": [
      "Downloading http://fashion-mnist.s3-website.eu-central-1.amazonaws.com/train-images-idx3-ubyte.gz\n",
      "Downloading http://fashion-mnist.s3-website.eu-central-1.amazonaws.com/train-images-idx3-ubyte.gz to ./dataset_Fashion/FashionMNIST\\raw\\train-images-idx3-ubyte.gz\n"
     ]
    },
    {
     "data": {
      "application/vnd.jupyter.widget-view+json": {
       "model_id": "6ff2a5754961482f845515301511904f",
       "version_major": 2,
       "version_minor": 0
      },
      "text/plain": [
       "  0%|          | 0/26421880 [00:00<?, ?it/s]"
      ]
     },
     "metadata": {},
     "output_type": "display_data"
    },
    {
     "name": "stdout",
     "output_type": "stream",
     "text": [
      "Extracting ./dataset_Fashion/FashionMNIST\\raw\\train-images-idx3-ubyte.gz to ./dataset_Fashion/FashionMNIST\\raw\n",
      "\n",
      "Downloading http://fashion-mnist.s3-website.eu-central-1.amazonaws.com/train-labels-idx1-ubyte.gz\n",
      "Downloading http://fashion-mnist.s3-website.eu-central-1.amazonaws.com/train-labels-idx1-ubyte.gz to ./dataset_Fashion/FashionMNIST\\raw\\train-labels-idx1-ubyte.gz\n"
     ]
    },
    {
     "data": {
      "application/vnd.jupyter.widget-view+json": {
       "model_id": "472c2662e22e405f9bf8d15db304cc83",
       "version_major": 2,
       "version_minor": 0
      },
      "text/plain": [
       "  0%|          | 0/29515 [00:00<?, ?it/s]"
      ]
     },
     "metadata": {},
     "output_type": "display_data"
    },
    {
     "name": "stdout",
     "output_type": "stream",
     "text": [
      "Extracting ./dataset_Fashion/FashionMNIST\\raw\\train-labels-idx1-ubyte.gz to ./dataset_Fashion/FashionMNIST\\raw\n",
      "\n",
      "Downloading http://fashion-mnist.s3-website.eu-central-1.amazonaws.com/t10k-images-idx3-ubyte.gz\n",
      "Downloading http://fashion-mnist.s3-website.eu-central-1.amazonaws.com/t10k-images-idx3-ubyte.gz to ./dataset_Fashion/FashionMNIST\\raw\\t10k-images-idx3-ubyte.gz\n"
     ]
    },
    {
     "data": {
      "application/vnd.jupyter.widget-view+json": {
       "model_id": "eab3379ef8c14270ba857557bea757be",
       "version_major": 2,
       "version_minor": 0
      },
      "text/plain": [
       "  0%|          | 0/4422102 [00:00<?, ?it/s]"
      ]
     },
     "metadata": {},
     "output_type": "display_data"
    },
    {
     "name": "stdout",
     "output_type": "stream",
     "text": [
      "Extracting ./dataset_Fashion/FashionMNIST\\raw\\t10k-images-idx3-ubyte.gz to ./dataset_Fashion/FashionMNIST\\raw\n",
      "\n",
      "Downloading http://fashion-mnist.s3-website.eu-central-1.amazonaws.com/t10k-labels-idx1-ubyte.gz\n",
      "Downloading http://fashion-mnist.s3-website.eu-central-1.amazonaws.com/t10k-labels-idx1-ubyte.gz to ./dataset_Fashion/FashionMNIST\\raw\\t10k-labels-idx1-ubyte.gz\n"
     ]
    },
    {
     "data": {
      "application/vnd.jupyter.widget-view+json": {
       "model_id": "765f61777a374caf8b1bcaa0b8eb3a40",
       "version_major": 2,
       "version_minor": 0
      },
      "text/plain": [
       "  0%|          | 0/5148 [00:00<?, ?it/s]"
      ]
     },
     "metadata": {},
     "output_type": "display_data"
    },
    {
     "name": "stdout",
     "output_type": "stream",
     "text": [
      "Extracting ./dataset_Fashion/FashionMNIST\\raw\\t10k-labels-idx1-ubyte.gz to ./dataset_Fashion/FashionMNIST\\raw\n",
      "\n"
     ]
    }
   ],
   "source": [
    "data_dir = './dataset_Fashion/'\n",
    "train_data = datasets.FashionMNIST(root = data_dir,train=True,download=True,transform=transform)\n",
    "test_data = datasets.FashionMNIST(root = data_dir,train=False,download=True,transform=transform)"
   ]
  },
  {
   "cell_type": "code",
   "execution_count": 8,
   "id": "3bdff222",
   "metadata": {},
   "outputs": [],
   "source": [
    "batch_size = 64\n",
    "trainset = datasets.FashionMNIST(root=data_dir, download=True,train=True, transform=transform)\n",
    "trainloader = torch.utils.data.DataLoader(trainset,batch_size=batch_size, shuffle=True)\n",
    "testset = datasets.FashionMNIST(root=data_dir, download=True,train=False, transform=transform)\n",
    "testloader = torch.utils.data.DataLoader(testset,batch_size=64, shuffle=True)"
   ]
  },
  {
   "cell_type": "code",
   "execution_count": 9,
   "id": "2f827266",
   "metadata": {},
   "outputs": [],
   "source": [
    "images, labels = next(iter(trainloader))"
   ]
  },
  {
   "cell_type": "code",
   "execution_count": 10,
   "id": "bcfe916b",
   "metadata": {},
   "outputs": [
    {
     "data": {
      "text/plain": [
       "torch.Size([64, 1, 28, 28])"
      ]
     },
     "execution_count": 10,
     "metadata": {},
     "output_type": "execute_result"
    }
   ],
   "source": [
    "images.shape"
   ]
  },
  {
   "cell_type": "code",
   "execution_count": 11,
   "id": "9ae63fe8",
   "metadata": {},
   "outputs": [
    {
     "data": {
      "text/plain": [
       "torch.Size([64, 1, 28, 28])"
      ]
     },
     "execution_count": 11,
     "metadata": {},
     "output_type": "execute_result"
    }
   ],
   "source": [
    "torch.Size([64, 1, 28, 28])"
   ]
  },
  {
   "cell_type": "code",
   "execution_count": 12,
   "id": "51ef7ddc",
   "metadata": {},
   "outputs": [
    {
     "data": {
      "text/plain": [
       "torch.Size([64])"
      ]
     },
     "execution_count": 12,
     "metadata": {},
     "output_type": "execute_result"
    }
   ],
   "source": [
    "labels.shape"
   ]
  },
  {
   "cell_type": "code",
   "execution_count": 13,
   "id": "45b46f15",
   "metadata": {},
   "outputs": [
    {
     "data": {
      "text/plain": [
       "torch.Size([64])"
      ]
     },
     "execution_count": 13,
     "metadata": {},
     "output_type": "execute_result"
    }
   ],
   "source": [
    "torch.Size([64])"
   ]
  },
  {
   "cell_type": "code",
   "execution_count": 14,
   "id": "16ef846b",
   "metadata": {},
   "outputs": [],
   "source": [
    "\n",
    "index = 0\n",
    "image = images[index]\n",
    "label = labels[index]\n"
   ]
  },
  {
   "cell_type": "code",
   "execution_count": 15,
   "id": "6f1a1a5e",
   "metadata": {},
   "outputs": [
    {
     "data": {
      "text/plain": [
       "torch.Size([1, 28, 28])"
      ]
     },
     "execution_count": 15,
     "metadata": {},
     "output_type": "execute_result"
    }
   ],
   "source": [
    "\n",
    "image.shape\n"
   ]
  },
  {
   "cell_type": "code",
   "execution_count": 16,
   "id": "4176b6b5",
   "metadata": {},
   "outputs": [
    {
     "name": "stdout",
     "output_type": "stream",
     "text": [
      "这张图片对应的标签是 运动鞋\n"
     ]
    },
    {
     "data": {
      "image/png": "[encoded data removed]",
      "text/plain": [
       "<Figure size 640x480 with 1 Axes>"
      ]
     },
     "metadata": {},
     "output_type": "display_data"
    }
   ],
   "source": [
    "\n",
    "import matplotlib.pyplot as plt\n",
    "plt.imshow(image.reshape(28,28))\n",
    "labellist = ['T恤','裤子','套衫','裙子','外套','凉鞋','汗衫','运动鞋','包包','靴子']\n",
    "print(f'这张图片对应的标签是 {labellist[label]}')"
   ]
  },
  {
   "cell_type": "code",
   "execution_count": 18,
   "id": "5bb094c1",
   "metadata": {},
   "outputs": [],
   "source": [
    "from torch import nn, optim\n",
    "import torch.nn.functional as F\n",
    "class Classifier(nn.Module):\n",
    "    def __init__(self):\n",
    "        super().__init__()\n",
    "        self.fc1 = nn.Linear(784, 256) #第一层:256个神经元\n",
    "        self.fc2 = nn.Linear(256, 128) #第二层:128个神经元\n",
    "        self.fc3 = nn.Linear(128, 64) #第三层:64个神经元\n",
    "        self.fc4 = nn.Linear(64, 10) #输出层\n",
    "    def forward(self, x):\n",
    " \n",
    "        x = x.view(x.shape[0], -1)\n",
    "        x = F.relu(self.fc1(x))\n",
    "        x = F.relu(self.fc2(x))\n",
    "        x = F.relu(self.fc3(x))\n",
    "        x = F.log_softmax(self.fc4(x), dim=1)\n",
    "        return x\n"
   ]
  },
  {
   "cell_type": "code",
   "execution_count": 27,
   "id": "b9501bf8",
   "metadata": {},
   "outputs": [],
   "source": [
    "model = Classifier()\n",
    "model.to('cuda') #如果不是gpu版本的pytorch，将这行注释掉\n",
    "# 定义损失函数为交叉熵\n",
    "criterion = nn.CrossEntropyLoss()\n",
    "# 优化方法为SDG，学习率为0.003\n",
    "optimizer = optim.SGD(model.parameters(), lr=0.003)\n",
    "# 对训练集的全部数据学习15遍，这个数字越大，训练时间越长\n",
    "epochs = 15\n",
    "# 将每次训练的训练误差和测试误差存储在这两个列表里，后面绘制误差变化折线图用\n",
    "train_losses, test_losses = [], []\n",
    "def train():\n",
    "    print('开始训练:')\n",
    "    for e in range(epochs):\n",
    "        running_loss = 0\n",
    "# 对训练集中的所有图片都过一遍\n",
    "        for images, labels in trainloader:\n",
    "            images = images.cuda() #如果不是gpu版本的pytorch，将这行注释掉\n",
    "            labels = labels.cuda() #如果不是gpu版本的pytorch，将这行注释掉\n",
    "            # 将优化器中的求导结果都设为0，否则会在每次反向传播之后叠加之前的\n",
    "            optimizer.zero_grad()\n",
    "            # 对64张图片进行推断，计算损失函数，反向传播优化权重，将损失求和\n",
    "            log_ps = model(images)\n",
    "            loss = criterion(log_ps, labels)\n",
    "            loss.backward()\n",
    "            optimizer.step()\n",
    "            running_loss += loss.item()\n",
    "        else:\n",
    "            test_loss = 0\n",
    "            accuracy = 0\n",
    "# 测试的时候不需要开自动求导和反向传播\n",
    "            with torch.no_grad():\n",
    "                # 将模型转换为评估模式，在该模式下不会影响到训练\n",
    "                model.eval()\n",
    "                # 对测试集中的所有图片都过一遍\n",
    "                for images, labels in testloader:\n",
    "                    images = images.cuda() #如果不是gpu版本的pytorch，将这行注释掉\n",
    "                    labels = labels.cuda() #如果不是gpu版本的pytorch，将这行注释掉\n",
    "                    # 对传入的测试集图片进行正向推断、计算损失，accuracy为测试集一万张图片中模型预测正确率\n",
    "                    log_ps = model(images)\n",
    "                    test_loss += criterion(log_ps, labels)\n",
    "                   \n",
    "                    ps = torch.exp(log_ps)\n",
    "                    top_p, top_class = ps.topk(1, dim=1)\n",
    "                    equals = top_class ==labels.view(*top_class.shape)\n",
    "                    # 等号右边为每一批64张测试图片中预测正确的占比\n",
    "                    accuracy +=torch.mean(equals.type(torch.FloatTensor))\n",
    "                    # 恢复Dropout\n",
    "                model.train()\n",
    "                    # 将训练误差和测试误差存在两个列表里，后面绘制误差变化折线图用\n",
    "                train_losses.append(running_loss/len(trainloader))\n",
    "                test_losses.append(test_loss/len(testloader))\n",
    "                print(\"训练集学习次数: {}/{}.. \".format(e+1,epochs),\"训练误差: {:.3f}..\".format(running_loss/len(trainloader)),\"测试误差: {:.3f}..\".format(test_loss/len(testloader)),\"模型分类准确率:{:.3f}\".format(accuracy/len(testloader)))"
   ]
  },
  {
   "cell_type": "code",
   "execution_count": 28,
   "id": "8f6c0ec3",
   "metadata": {},
   "outputs": [
    {
     "name": "stdout",
     "output_type": "stream",
     "text": [
      "开始训练:\n",
      "训练集学习次数: 1/15..  训练误差: 2.149.. 测试误差: 1.822.. 模型分类准确率:0.417\n",
      "训练集学习次数: 2/15..  训练误差: 1.237.. 测试误差: 0.896.. 模型分类准确率:0.678\n",
      "训练集学习次数: 3/15..  训练误差: 0.780.. 测试误差: 0.721.. 模型分类准确率:0.730\n",
      "训练集学习次数: 4/15..  训练误差: 0.671.. 测试误差: 0.656.. 模型分类准确率:0.755\n",
      "训练集学习次数: 5/15..  训练误差: 0.619.. 测试误差: 0.616.. 模型分类准确率:0.769\n",
      "训练集学习次数: 6/15..  训练误差: 0.581.. 测试误差: 0.584.. 模型分类准确率:0.780\n",
      "训练集学习次数: 7/15..  训练误差: 0.551.. 测试误差: 0.562.. 模型分类准确率:0.790\n",
      "训练集学习次数: 8/15..  训练误差: 0.527.. 测试误差: 0.541.. 模型分类准确率:0.801\n",
      "训练集学习次数: 9/15..  训练误差: 0.508.. 测试误差: 0.528.. 模型分类准确率:0.809\n",
      "训练集学习次数: 10/15..  训练误差: 0.491.. 测试误差: 0.510.. 模型分类准确率:0.813\n",
      "训练集学习次数: 11/15..  训练误差: 0.476.. 测试误差: 0.496.. 模型分类准确率:0.822\n",
      "训练集学习次数: 12/15..  训练误差: 0.464.. 测试误差: 0.487.. 模型分类准确率:0.827\n",
      "训练集学习次数: 13/15..  训练误差: 0.453.. 测试误差: 0.485.. 模型分类准确率:0.823\n",
      "训练集学习次数: 14/15..  训练误差: 0.443.. 测试误差: 0.475.. 模型分类准确率:0.830\n",
      "训练集学习次数: 15/15..  训练误差: 0.435.. 测试误差: 0.474.. 模型分类准确率:0.833\n",
      "Wall time: 2min 5s\n"
     ]
    }
   ],
   "source": [
    "%time train()"
   ]
  },
  {
   "cell_type": "code",
   "execution_count": 29,
   "id": "c14ac427",
   "metadata": {},
   "outputs": [],
   "source": [
    "import matplotlib.pyplot as plt\n",
    "%matplotlib inline\n"
   ]
  },
  {
   "cell_type": "code",
   "execution_count": 30,
   "id": "6c000f4c",
   "metadata": {},
   "outputs": [
    {
     "data": {
      "text/plain": [
       "<matplotlib.legend.Legend at 0x29beeb22d60>"
      ]
     },
     "execution_count": 30,
     "metadata": {},
     "output_type": "execute_result"
    },
    {
     "data": {
      "image/png": "[encoded data removed]",
      "text/plain": [
       "<Figure size 640x480 with 1 Axes>"
      ]
     },
     "metadata": {},
     "output_type": "display_data"
    }
   ],
   "source": [
    "# 将列表中的所有张量从 GPU 移动到 CPU 上\n",
    "for i, tensor in enumerate(test_losses):\n",
    "    test_losses[i] = tensor.cpu()\n",
    "plt.plot(train_losses, label='Training loss')\n",
    "plt.plot(test_losses, label='Validation loss')\n",
    "plt.legend()"
   ]
  },
  {
   "cell_type": "code",
   "execution_count": null,
   "id": "9465a519",
   "metadata": {},
   "outputs": [],
   "source": []
  }
 ],
 "metadata": {
  "kernelspec": {
   "display_name": "Python 3 (ipykernel)",
   "language": "python",
   "name": "python3"
  },
  "language_info": {
   "codemirror_mode": {
    "name": "ipython",
    "version": 3
   },
   "file_extension": ".py",
   "mimetype": "text/x-python",
   "name": "python",
   "nbconvert_exporter": "python",
   "pygments_lexer": "ipython3",
   "version": "3.9.13"
  }
 },
 "nbformat": 4,
 "nbformat_minor": 5
}
