{
 "cells": [
  {
   "cell_type": "code",
   "execution_count": 1,
   "metadata": {},
   "outputs": [
    {
     "name": "stdout",
     "output_type": "stream",
     "text": [
      "主机名: DESKTOP-D93LP51\n",
      "IP地址: 10.218.151.195\n"
     ]
    }
   ],
   "source": [
    "#获取本地IP地址\n",
    "import socket\n",
    "hostname = socket.gethostname()\n",
    "ip_address = socket.gethostbyname(hostname)\n",
    "print(f\"主机名: {hostname}\")\n",
    "print(f\"IP地址: {ip_address}\")"
   ]
  },
  {
   "cell_type": "code",
   "execution_count": 2,
   "metadata": {},
   "outputs": [],
   "source": [
    "import torch\n",
    "import torch.nn as nn\n",
    "import torch.optim as optim\n",
    "import matplotlib.pyplot as plt\n",
    "from torchvision import datasets, transforms\n",
    "%matplotlib inline"
   ]
  },
  {
   "cell_type": "code",
   "execution_count": 3,
   "metadata": {},
   "outputs": [],
   "source": [
    "transform = transforms.Compose([\n",
    "    transforms.ToTensor(),\n",
    "    transforms.Normalize((0.1307,),(0.3081,))\n",
    "])"
   ]
  },
  {
   "cell_type": "code",
   "execution_count": 4,
   "metadata": {},
   "outputs": [
    {
     "name": "stdout",
     "output_type": "stream",
     "text": [
      "Downloading http://yann.lecun.com/exdb/mnist/train-images-idx3-ubyte.gz\n",
      "Downloading http://yann.lecun.com/exdb/mnist/train-images-idx3-ubyte.gz to ./dataset/MNIST\\raw\\train-images-idx3-ubyte.gz\n"
     ]
    },
    {
     "data": {
      "application/vnd.jupyter.widget-view+json": {
       "model_id": "1db8166e95854f8c846e1e1942b12125",
       "version_major": 2,
       "version_minor": 0
      },
      "text/plain": [
       "  0%|          | 0/9912422 [00:00<?, ?it/s]"
      ]
     },
     "metadata": {},
     "output_type": "display_data"
    },
    {
     "name": "stdout",
     "output_type": "stream",
     "text": [
      "Extracting ./dataset/MNIST\\raw\\train-images-idx3-ubyte.gz to ./dataset/MNIST\\raw\n",
      "\n",
      "Downloading http://yann.lecun.com/exdb/mnist/train-labels-idx1-ubyte.gz\n",
      "Downloading http://yann.lecun.com/exdb/mnist/train-labels-idx1-ubyte.gz to ./dataset/MNIST\\raw\\train-labels-idx1-ubyte.gz\n"
     ]
    },
    {
     "data": {
      "application/vnd.jupyter.widget-view+json": {
       "model_id": "f1d9a4e57ea142e48ecfc7a264f0ddf1",
       "version_major": 2,
       "version_minor": 0
      },
      "text/plain": [
       "  0%|          | 0/28881 [00:00<?, ?it/s]"
      ]
     },
     "metadata": {},
     "output_type": "display_data"
    },
    {
     "name": "stdout",
     "output_type": "stream",
     "text": [
      "Extracting ./dataset/MNIST\\raw\\train-labels-idx1-ubyte.gz to ./dataset/MNIST\\raw\n",
      "\n",
      "Downloading http://yann.lecun.com/exdb/mnist/t10k-images-idx3-ubyte.gz\n",
      "Downloading http://yann.lecun.com/exdb/mnist/t10k-images-idx3-ubyte.gz to ./dataset/MNIST\\raw\\t10k-images-idx3-ubyte.gz\n"
     ]
    },
    {
     "data": {
      "application/vnd.jupyter.widget-view+json": {
       "model_id": "7fd4a9eaaec0446fae6703b298e81fd8",
       "version_major": 2,
       "version_minor": 0
      },
      "text/plain": [
       "  0%|          | 0/1648877 [00:00<?, ?it/s]"
      ]
     },
     "metadata": {},
     "output_type": "display_data"
    },
    {
     "name": "stdout",
     "output_type": "stream",
     "text": [
      "Extracting ./dataset/MNIST\\raw\\t10k-images-idx3-ubyte.gz to ./dataset/MNIST\\raw\n",
      "\n",
      "Downloading http://yann.lecun.com/exdb/mnist/t10k-labels-idx1-ubyte.gz\n",
      "Downloading http://yann.lecun.com/exdb/mnist/t10k-labels-idx1-ubyte.gz to ./dataset/MNIST\\raw\\t10k-labels-idx1-ubyte.gz\n"
     ]
    },
    {
     "data": {
      "application/vnd.jupyter.widget-view+json": {
       "model_id": "50db625177e142eabc6c822cba512629",
       "version_major": 2,
       "version_minor": 0
      },
      "text/plain": [
       "  0%|          | 0/4542 [00:00<?, ?it/s]"
      ]
     },
     "metadata": {},
     "output_type": "display_data"
    },
    {
     "name": "stdout",
     "output_type": "stream",
     "text": [
      "Extracting ./dataset/MNIST\\raw\\t10k-labels-idx1-ubyte.gz to ./dataset/MNIST\\raw\n",
      "\n"
     ]
    }
   ],
   "source": [
    "data_dir = './dataset/'\n",
    "train_data = datasets.MNIST(root = data_dir,train=True,download=True,transform=transform)\n",
    "test_data = datasets.MNIST(root = data_dir,train=False,download=True,transform=transform)"
   ]
  },
  {
   "cell_type": "code",
   "execution_count": 5,
   "metadata": {},
   "outputs": [
    {
     "name": "stdout",
     "output_type": "stream",
     "text": [
      "MNIST 数据集的均值为 0.1307，标准差为0.3081\n"
     ]
    }
   ],
   "source": [
    "train_data_mean = train_data.data.float().mean() / 255.\n",
    "train_data_std = train_data.data.float().std() / 255.\n",
    "print(f\"MNIST 数据集的均值为 {train_data_mean:.4f}，标准差为{train_data_std:.4f}\")"
   ]
  },
  {
   "cell_type": "code",
   "execution_count": 6,
   "metadata": {},
   "outputs": [
    {
     "name": "stdout",
     "output_type": "stream",
     "text": [
      "label is :2\n"
     ]
    },
    {
     "data": {
      "image/png": "[encoded data removed]",
      "text/plain": [
       "<Figure size 640x480 with 1 Axes>"
      ]
     },
     "metadata": {},
     "output_type": "display_data"
    }
   ],
   "source": [
    "index = 1 \n",
    "demo_pic = train_data.data[index]\n",
    "plt.imshow(demo_pic,cmap='gray')\n",
    "print(f'label is :{test_data.targets[index]}')"
   ]
  },
  {
   "cell_type": "code",
   "execution_count": 7,
   "metadata": {},
   "outputs": [],
   "source": [
    "batch_size = 128\n",
    "train_loader = torch.utils.data.DataLoader(train_data,batch_size=batch_size,shuffle=True)\n",
    "\n",
    "test_loader = torch.utils.data.DataLoader(test_data,batch_size=batch_size,shuffle=False)"
   ]
  },
  {
   "cell_type": "code",
   "execution_count": 8,
   "metadata": {},
   "outputs": [],
   "source": [
    "class SoftmaxModel(nn.Module):\n",
    "    def __init__(self):\n",
    "        super(SoftmaxModel,self).__init__()\n",
    "        self.linear = nn.Linear(784,10)\n",
    "    def forward(self,x):\n",
    "        x = x.view(-1,784)\n",
    "        out = self.linear(x)\n",
    "        return out\n"
   ]
  },
  {
   "cell_type": "code",
   "execution_count": 9,
   "metadata": {},
   "outputs": [],
   "source": [
    "def train():\n",
    "    model = SoftmaxModel()\n",
    "    learning_rate = 0.001\n",
    "    criterion = nn.CrossEntropyLoss()\n",
    "    optimizer = optim.SGD(model.parameters(),lr = learning_rate)\n",
    "    num_epochs = 15\n",
    "    losses = []\n",
    "    for epoch in range(num_epochs):\n",
    "        epoch_loss = 0.\n",
    "        j = 0\n",
    "        for i, (images,labels) in enumerate(train_loader):\n",
    "            j+=1\n",
    "            outputs = model(images)\n",
    "            loss = criterion(outputs, labels)\n",
    "        \n",
    "            optimizer.zero_grad()\n",
    "            loss.backward()\n",
    "            optimizer.step()\n",
    "            epoch_loss+=loss.item()\n",
    "            if (i+1) % 100 == 0:\n",
    "                print('Epoch [{}/{}], Step [{}/{}], Loss:{:.4f}'.format(epoch+1,num_epochs, i+1, len(train_loader),loss.item()))\n",
    "        losses.append(epoch_loss/j)\n",
    "    return losses,model"
   ]
  },
  {
   "cell_type": "code",
   "execution_count": null,
   "metadata": {},
   "outputs": [
    {
     "name": "stdout",
     "output_type": "stream",
     "text": [
      "Epoch [1/15], Step [100/469], Loss:1.5313\n",
      "Epoch [1/15], Step [200/469], Loss:1.1113\n",
      "Epoch [1/15], Step [300/469], Loss:1.0211\n",
      "Epoch [1/15], Step [400/469], Loss:0.8960\n",
      "Epoch [2/15], Step [100/469], Loss:0.7730\n",
      "Epoch [2/15], Step [200/469], Loss:0.6272\n",
      "Epoch [2/15], Step [300/469], Loss:0.7594\n",
      "Epoch [2/15], Step [400/469], Loss:0.6004\n",
      "Epoch [3/15], Step [100/469], Loss:0.5211\n",
      "Epoch [3/15], Step [200/469], Loss:0.4960\n",
      "Epoch [3/15], Step [300/469], Loss:0.5925\n",
      "Epoch [3/15], Step [400/469], Loss:0.4392\n",
      "Epoch [4/15], Step [100/469], Loss:0.5747\n",
      "Epoch [4/15], Step [200/469], Loss:0.6455\n",
      "Epoch [4/15], Step [300/469], Loss:0.5464\n",
      "Epoch [4/15], Step [400/469], Loss:0.4683\n",
      "Epoch [5/15], Step [100/469], Loss:0.4345\n",
      "Epoch [5/15], Step [200/469], Loss:0.4619\n",
      "Epoch [5/15], Step [300/469], Loss:0.5711\n",
      "Epoch [5/15], Step [400/469], Loss:0.4972\n",
      "Epoch [6/15], Step [100/469], Loss:0.3278\n",
      "Epoch [6/15], Step [200/469], Loss:0.5113\n",
      "Epoch [6/15], Step [300/469], Loss:0.4022\n",
      "Epoch [6/15], Step [400/469], Loss:0.5229\n",
      "Epoch [7/15], Step [100/469], Loss:0.4710\n",
      "Epoch [7/15], Step [200/469], Loss:0.4097\n",
      "Epoch [7/15], Step [300/469], Loss:0.3623\n",
      "Epoch [7/15], Step [400/469], Loss:0.4629\n",
      "Epoch [8/15], Step [100/469], Loss:0.4184\n",
      "Epoch [8/15], Step [200/469], Loss:0.4528\n",
      "Epoch [8/15], Step [300/469], Loss:0.4650\n",
      "Epoch [8/15], Step [400/469], Loss:0.4764\n",
      "Epoch [9/15], Step [100/469], Loss:0.3103\n",
      "Epoch [9/15], Step [200/469], Loss:0.2739\n"
     ]
    }
   ],
   "source": [
    "%time losses,model = train()"
   ]
  },
  {
   "cell_type": "code",
   "execution_count": 12,
   "metadata": {},
   "outputs": [
    {
     "data": {
      "text/plain": [
       "[<matplotlib.lines.Line2D at 0x226830645c8>]"
      ]
     },
     "execution_count": 12,
     "metadata": {},
     "output_type": "execute_result"
    },
    {
     "data": {
      "image/png": "[encoded data removed]",
      "text/plain": [
       "<Figure size 432x288 with 1 Axes>"
      ]
     },
     "metadata": {
      "needs_background": "light"
     },
     "output_type": "display_data"
    }
   ],
   "source": [
    "import matplotlib.pyplot as plt\n",
    "plt.plot(losses)"
   ]
  },
  {
   "cell_type": "code",
   "execution_count": 13,
   "metadata": {},
   "outputs": [
    {
     "name": "stdout",
     "output_type": "stream",
     "text": [
      "Accuracy on Test Set: 90.39%\n"
     ]
    }
   ],
   "source": [
    "model.cpu()\n",
    "with torch.no_grad():\n",
    "    correct = 0\n",
    "    total = 0\n",
    "    for images,labels in test_loader:\n",
    "        outputs = model(images)\n",
    "        _,predicted = torch.max(outputs.data,1)\n",
    "        total+=labels.size(0)\n",
    "        correct += (predicted == labels).sum().item()\n",
    "    print('Accuracy on Test Set: {:.2f}%'.format(100 * correct/ total))"
   ]
  }
 ],
 "metadata": {
  "kernelspec": {
   "display_name": "Python 3 (ipykernel)",
   "language": "python",
   "name": "python3"
  },
  "language_info": {
   "codemirror_mode": {
    "name": "ipython",
    "version": 3
   },
   "file_extension": ".py",
   "mimetype": "text/x-python",
   "name": "python",
   "nbconvert_exporter": "python",
   "pygments_lexer": "ipython3",
   "version": "3.9.13"
  }
 },
 "nbformat": 4,
 "nbformat_minor": 4
}
